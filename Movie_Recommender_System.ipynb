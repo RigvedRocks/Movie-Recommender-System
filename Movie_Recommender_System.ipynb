{
  "nbformat": 4,
  "nbformat_minor": 0,
  "metadata": {
    "colab": {
      "name": "Movie Recommender System",
      "provenance": [],
      "private_outputs": true,
      "collapsed_sections": [],
      "authorship_tag": "ABX9TyMjovtS4g1VHXbkRz1NpXWo",
      "include_colab_link": true
    },
    "kernelspec": {
      "name": "python3",
      "display_name": "Python 3"
    },
    "accelerator": "GPU"
  },
  "cells": [
    {
      "cell_type": "markdown",
      "metadata": {
        "id": "view-in-github",
        "colab_type": "text"
      },
      "source": [
        "<a href=\"https://colab.research.google.com/github/RigvedRocks/Movie-Recommender-System/blob/main/Movie_Recommender_System.ipynb\" target=\"_parent\"><img src=\"https://colab.research.google.com/assets/colab-badge.svg\" alt=\"Open In Colab\"/></a>"
      ]
    },
    {
      "cell_type": "code",
      "metadata": {
        "id": "GRIvLp9Pc0cs"
      },
      "source": [
        "from google.colab import drive\n",
        "drive.mount(\"/content/gdrive\")"
      ],
      "execution_count": null,
      "outputs": []
    },
    {
      "cell_type": "code",
      "metadata": {
        "id": "0eYfhPM9elwJ"
      },
      "source": [
        "import os\n",
        "os.environ['KAGGLE_CONFIG_DIR'] = \"/content/gdrive/My Drive/Kaggle\""
      ],
      "execution_count": null,
      "outputs": []
    },
    {
      "cell_type": "code",
      "metadata": {
        "id": "flnmzB39envh"
      },
      "source": [
        "%cd /content/gdrive/My Drive/Kaggle"
      ],
      "execution_count": null,
      "outputs": []
    },
    {
      "cell_type": "code",
      "metadata": {
        "id": "8XxFE_fBeuJb"
      },
      "source": [
        "!kaggle datasets download -d sankha1998/tmdb-top-10000-popular-movies-dataset"
      ],
      "execution_count": null,
      "outputs": []
    },
    {
      "cell_type": "code",
      "metadata": {
        "id": "IgL4MDIchSDA"
      },
      "source": [
        "!dir"
      ],
      "execution_count": null,
      "outputs": []
    },
    {
      "cell_type": "code",
      "metadata": {
        "id": "vmx_WlRAhZpJ"
      },
      "source": [
        "!unzip \\*.zip && rm *.zip"
      ],
      "execution_count": null,
      "outputs": []
    },
    {
      "cell_type": "code",
      "metadata": {
        "id": "OICvLBmkho8j"
      },
      "source": [
        "import numpy as np\n",
        "import pandas as pd\n",
        "import matplotlib.pyplot as plt\n",
        "from mpl_toolkits.mplot3d import Axes3D\n",
        "from sklearn.preprocessing import StandardScaler\n",
        "from sklearn.feature_extraction.text import TfidfVectorizer\n",
        "from sklearn.metrics.pairwise import cosine_similarity\n",
        "import difflib"
      ],
      "execution_count": null,
      "outputs": []
    },
    {
      "cell_type": "code",
      "metadata": {
        "id": "_nPto6Npwp0v"
      },
      "source": [
        "data = pd.read_csv('TMDb_updated.CSV')"
      ],
      "execution_count": null,
      "outputs": []
    },
    {
      "cell_type": "code",
      "metadata": {
        "id": "dvF0zYLOG9_E"
      },
      "source": [
        "for col in data.columns:\n",
        "     print(col)"
      ],
      "execution_count": null,
      "outputs": []
    },
    {
      "cell_type": "code",
      "metadata": {
        "id": "tyRcWrSecMjt"
      },
      "source": [
        "data.rename(columns={'Unnamed: 0': 'index'},inplace=True)"
      ],
      "execution_count": null,
      "outputs": []
    },
    {
      "cell_type": "code",
      "metadata": {
        "id": "Di2OZ3N7LdiM"
      },
      "source": [
        "data.head()"
      ],
      "execution_count": null,
      "outputs": []
    },
    {
      "cell_type": "code",
      "metadata": {
        "id": "mBV22mRuMFQm"
      },
      "source": [
        "print(data.shape)"
      ],
      "execution_count": null,
      "outputs": []
    },
    {
      "cell_type": "code",
      "metadata": {
        "id": "JdIQHvdrIrHY"
      },
      "source": [
        "features = ['title','overview','popularity','original_language','vote_average']\n",
        "for feature in features:\n",
        "    data[feature] = data[feature].fillna('')\n",
        "data.head()"
      ],
      "execution_count": null,
      "outputs": []
    },
    {
      "cell_type": "code",
      "metadata": {
        "id": "71ZCSuFJPWca"
      },
      "source": [
        "def combine_features(row):\n",
        "    \n",
        "       \n",
        "       return row['title'] + \"Summary - \" + row['overview'] + \"Language - \" + row['original_language'] + \"Popularity - \" + str(row['popularity']) + \"Rating - \" + str(row['vote_average'])\n",
        "\n",
        "\n",
        "\n",
        "data['combined_features'] = data.apply(combine_features,axis = 1)"
      ],
      "execution_count": null,
      "outputs": []
    },
    {
      "cell_type": "code",
      "metadata": {
        "id": "DFnaAuDmaJAb"
      },
      "source": [
        "def title_from_index(index):\n",
        "    return data[data.index == index].values[0]\n",
        "\n",
        "def index_from_title(title):\n",
        "    title_list = data['title'].tolist()\n",
        "    common = difflib.get_close_matches(title,title_list,1)\n",
        "    titlesim = common[0]\n",
        "    return data[data.title == titlesim]['index'].values[0]"
      ],
      "execution_count": null,
      "outputs": []
    },
    {
      "cell_type": "code",
      "metadata": {
        "id": "--wwaN75XfQ1"
      },
      "source": [
        "tfidf = TfidfVectorizer()\n",
        "count_matrix = tfidf.fit_transform(data['combined_features'])\n",
        "cosine_sim = cosine_similarity(count_matrix)"
      ],
      "execution_count": null,
      "outputs": []
    },
    {
      "cell_type": "code",
      "metadata": {
        "id": "ZciSTJt8bC1T"
      },
      "source": [
        "user_movie = input(\"Enter movie of your choice:\\t\")\n",
        "movie_index = index_from_title(user_movie)\n",
        "\n",
        "similar_movies =  list(enumerate(cosine_sim[movie_index]))\n",
        "similar_movies_sorted = sorted(similar_movies,key=lambda x:x[1],reverse=True)\n",
        "i=0\n",
        "print(\"\\nOther movies you might be interested in:-\\n\")\n",
        "for rec_movie in similar_movies_sorted:\n",
        "        if(i!=0):\n",
        "            print (i,\") \",title_from_index(rec_movie[0]),sep=\"\")\n",
        "        i=i+1\n",
        "        if i>10:\n",
        "            break"
      ],
      "execution_count": null,
      "outputs": []
    }
  ]
}